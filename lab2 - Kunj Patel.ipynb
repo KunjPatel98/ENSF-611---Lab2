{
  "cells": [
    {
      "cell_type": "markdown",
      "metadata": {
        "id": "gv0JXO4b5gLp"
      },
      "source": [
        "# Lab2 - Concrete compressive strength regression (35 marks total)\n",
        "Author: *YOUR NAME HERE*"
      ]
    },
    {
      "cell_type": "code",
      "execution_count": 3,
      "metadata": {
        "id": "kP8E5j5H5gLr"
      },
      "outputs": [],
      "source": [
        "import numpy as np\n",
        "import pandas as pd\n",
        "import matplotlib.pyplot as plt\n",
        "import seaborn as sns"
      ]
    },
    {
      "cell_type": "markdown",
      "metadata": {
        "id": "fSHPdZSf5gLs"
      },
      "source": [
        "## 0. Function definitions (2 marks)\n",
        "\n",
        "To find the best model, we follow the published article where root-mean squared error (rms) was used as a score function. The rms score function needs to be minimized, because the optimal score is 0, larger values are worse performances\n",
        "\n",
        "In scikit-learn, only *maximization* is implemented. Hence, it is customary to maximize the *negative* rms. scitkit-learn provides a scoring function `neg_root_mean_squared_error`"
      ]
    },
    {
      "cell_type": "code",
      "execution_count": 4,
      "metadata": {
        "id": "XEsnqWhj5gLs"
      },
      "outputs": [],
      "source": [
        "import numpy as np\n",
        "import pandas as pd\n",
        "import matplotlib.pyplot as plt\n",
        "import seaborn as sns\n",
        "\n",
        "from sklearn.model_selection import cross_validate\n",
        "\n",
        "\n",
        "def get_regressor_neg_rms(model, X, y, cv=7):\n",
        "    '''Calculate train and validation score for regressor (model) using cross-validation\n",
        "        \n",
        "        score is negative root mean-squared error (rms)\n",
        "        \n",
        "        model (sklearn classifier): Regressor to train and evaluate\n",
        "        X (numpy.array or pandas.DataFrame): Feature matrix\n",
        "        y (numpy.array or pandas.Series): Target vector\n",
        "        \n",
        "        returns: mean training negative rms, mean validation negative rms\n",
        "    \n",
        "    '''\n",
        "    \n",
        "    \n",
        "    #TODO: add function body here\n",
        "    \n",
        "    scoring = ['neg_root_mean_squared_error']\n",
        "    score = cross_validate(estimator=model, X=X, y=y, cv=cv, scoring=scoring, return_train_score=True)\n",
        "\n",
        "    score_train = score['train_' + scoring[0]].mean()\n",
        "    score_test = score['test_' + scoring[0]].mean()\n",
        "\n",
        "    return (score_train, score_test)\n",
        "    "
      ]
    },
    {
      "cell_type": "markdown",
      "metadata": {
        "id": "A_V6jh_h5gLs"
      },
      "source": [
        "## 1. Load data (1 mark each for 3 total marks)\n",
        "yellowbrick concrete  \n",
        "https://www.scikit-yb.org/en/latest/api/datasets/concrete.html\n",
        "\n",
        "Load the Dataset object with `load_concrete()` using `return_dataset=True`\n",
        "\n",
        "Print the README of the Dataset object\n"
      ]
    },
    {
      "cell_type": "code",
      "execution_count": 5,
      "metadata": {
        "colab": {
          "base_uri": "https://localhost:8080/"
        },
        "id": "IG68T-iW5gLt",
        "outputId": "5a7c701b-b037-43b8-d10a-dce6ef5fbbd2"
      },
      "outputs": [
        {
          "output_type": "stream",
          "name": "stdout",
          "text": [
            "# Concrete Compressive Strength\n",
            "\n",
            "**Downloaded from the UCI Machine Learning Repository on October 13, 2016.**\n",
            "\n",
            "- Multivariate Data Set\n",
            "- Real Attributes\n",
            "- 1,030 Instances\n",
            "- 9 attributes\n",
            "- Well suited for _regression_ tasks\n",
            "- [https://archive.ics.uci.edu/ml/datasets/Concrete+Compressive+Strength](https://archive.ics.uci.edu/ml/datasets/Concrete+Compressive+Strength)\n",
            "\n",
            "## Abstract\n",
            "\n",
            "Concrete is the most important material in civil engineering. The concrete compressive strength is a highly nonlinear function of age and ingredients.\n",
            "\n",
            "## Description\n",
            "\n",
            "Given are the variable name, variable type, the measurement unit and a brief description. The concrete compressive strength is the regression problem. The order of this listing corresponds to the order of numerals along the rows of the database.\n",
            "\n",
            "## Attributes\n",
            "\n",
            "- cement (kg)\n",
            "- blast furnace slag (kg)\n",
            "- fly ash (kg)\n",
            "- water (kg)\n",
            "- superplasticizer (kg)\n",
            "- coarse aggregate (kg)\n",
            "- fine aggregate (kg)\n",
            "- age (day)\n",
            "- compressive strength (MPa)\n",
            "\n",
            "## Citation\n",
            "\n",
            "Yeh, I-C. \"Modeling of strength of high-performance concrete using artificial neural networks.\" Cement and Concrete research 28.12 (1998): 1797-1808.\n"
          ]
        }
      ],
      "source": [
        "from yellowbrick.datasets.loaders import load_concrete\n",
        "\n",
        "# loading concrete dataset as a whole\n",
        "concrete_data = load_concrete(return_dataset=True)\n",
        "\n",
        "# printing the contents to README\n",
        "print(concrete_data.README)\n"
      ]
    },
    {
      "cell_type": "markdown",
      "metadata": {
        "id": "CZ6vGCLf5gLu"
      },
      "source": [
        "### *Question 1:* What is the target variable name and units in this dataset?"
      ]
    },
    {
      "cell_type": "markdown",
      "metadata": {
        "id": "8VPe-FG-5gLu"
      },
      "source": [
        "*YOUR ANSWER HERE*  \n"
      ]
    },
    {
      "cell_type": "markdown",
      "metadata": {
        "id": "GL1hpqMs5gLu"
      },
      "source": [
        "### 1.1 Prepare the feature matrix and target vector\n",
        "Load the concrete data set into feature matrix `X` and target vector `y`\n",
        "\n",
        "Print dimensions and type of `X`, `y`"
      ]
    },
    {
      "cell_type": "code",
      "execution_count": 6,
      "metadata": {
        "colab": {
          "base_uri": "https://localhost:8080/"
        },
        "id": "xHvCraaE5gLu",
        "outputId": "5f4cbf69-3148-457f-d96c-eb06699118c0"
      },
      "outputs": [
        {
          "output_type": "stream",
          "name": "stdout",
          "text": [
            "Type of X       = <class 'pandas.core.frame.DataFrame'>\n",
            "Dimension of X  = (1030, 8)\n",
            "\n",
            "Type of y       = <class 'pandas.core.series.Series'>\n",
            "Dimension of y  = (1030,)\n"
          ]
        }
      ],
      "source": [
        "#TODO: Load feature matrix X and target vector y, print shapes\n",
        "X, y = concrete_data.to_data()\n",
        "\n",
        "print(\"Type of X       = {}\\nDimension of X  = {}\\n\\nType of y       = {}\\nDimension of y  = {}\".format(type(X), X.shape, type(y), y.shape))"
      ]
    },
    {
      "cell_type": "markdown",
      "metadata": {
        "id": "wQI6Hey55gLu"
      },
      "source": [
        "## 2. Inspect the data (1 mark each for 4 total marks)"
      ]
    },
    {
      "cell_type": "markdown",
      "metadata": {
        "id": "DEXwt_eC5gLu"
      },
      "source": [
        "### 2.1 Range of each feature\n",
        "To get an idea if the features are on the same scale, we inspect the range of features\n",
        "\n",
        "Print the minimum and maximum of each feature in `X`"
      ]
    },
    {
      "cell_type": "code",
      "execution_count": 7,
      "metadata": {
        "colab": {
          "base_uri": "https://localhost:8080/",
          "height": 300
        },
        "id": "eUEUWR4A5gLv",
        "outputId": "bb48369f-86b5-409c-e6bb-a214bf28dcfe"
      },
      "outputs": [
        {
          "output_type": "execute_result",
          "data": {
            "text/plain": [
              "           min     max\n",
              "cement  102.00   540.0\n",
              "slag      0.00   359.4\n",
              "ash       0.00   200.1\n",
              "water   121.75   247.0\n",
              "splast    0.00    32.2\n",
              "coarse  801.00  1145.0\n",
              "fine    594.00   992.6\n",
              "age       1.00   365.0"
            ],
            "text/html": [
              "\n",
              "  <div id=\"df-76508a94-9b6e-4faa-bf30-c6da215c24a5\">\n",
              "    <div class=\"colab-df-container\">\n",
              "      <div>\n",
              "<style scoped>\n",
              "    .dataframe tbody tr th:only-of-type {\n",
              "        vertical-align: middle;\n",
              "    }\n",
              "\n",
              "    .dataframe tbody tr th {\n",
              "        vertical-align: top;\n",
              "    }\n",
              "\n",
              "    .dataframe thead th {\n",
              "        text-align: right;\n",
              "    }\n",
              "</style>\n",
              "<table border=\"1\" class=\"dataframe\">\n",
              "  <thead>\n",
              "    <tr style=\"text-align: right;\">\n",
              "      <th></th>\n",
              "      <th>min</th>\n",
              "      <th>max</th>\n",
              "    </tr>\n",
              "  </thead>\n",
              "  <tbody>\n",
              "    <tr>\n",
              "      <th>cement</th>\n",
              "      <td>102.00</td>\n",
              "      <td>540.0</td>\n",
              "    </tr>\n",
              "    <tr>\n",
              "      <th>slag</th>\n",
              "      <td>0.00</td>\n",
              "      <td>359.4</td>\n",
              "    </tr>\n",
              "    <tr>\n",
              "      <th>ash</th>\n",
              "      <td>0.00</td>\n",
              "      <td>200.1</td>\n",
              "    </tr>\n",
              "    <tr>\n",
              "      <th>water</th>\n",
              "      <td>121.75</td>\n",
              "      <td>247.0</td>\n",
              "    </tr>\n",
              "    <tr>\n",
              "      <th>splast</th>\n",
              "      <td>0.00</td>\n",
              "      <td>32.2</td>\n",
              "    </tr>\n",
              "    <tr>\n",
              "      <th>coarse</th>\n",
              "      <td>801.00</td>\n",
              "      <td>1145.0</td>\n",
              "    </tr>\n",
              "    <tr>\n",
              "      <th>fine</th>\n",
              "      <td>594.00</td>\n",
              "      <td>992.6</td>\n",
              "    </tr>\n",
              "    <tr>\n",
              "      <th>age</th>\n",
              "      <td>1.00</td>\n",
              "      <td>365.0</td>\n",
              "    </tr>\n",
              "  </tbody>\n",
              "</table>\n",
              "</div>\n",
              "      <button class=\"colab-df-convert\" onclick=\"convertToInteractive('df-76508a94-9b6e-4faa-bf30-c6da215c24a5')\"\n",
              "              title=\"Convert this dataframe to an interactive table.\"\n",
              "              style=\"display:none;\">\n",
              "        \n",
              "  <svg xmlns=\"http://www.w3.org/2000/svg\" height=\"24px\"viewBox=\"0 0 24 24\"\n",
              "       width=\"24px\">\n",
              "    <path d=\"M0 0h24v24H0V0z\" fill=\"none\"/>\n",
              "    <path d=\"M18.56 5.44l.94 2.06.94-2.06 2.06-.94-2.06-.94-.94-2.06-.94 2.06-2.06.94zm-11 1L8.5 8.5l.94-2.06 2.06-.94-2.06-.94L8.5 2.5l-.94 2.06-2.06.94zm10 10l.94 2.06.94-2.06 2.06-.94-2.06-.94-.94-2.06-.94 2.06-2.06.94z\"/><path d=\"M17.41 7.96l-1.37-1.37c-.4-.4-.92-.59-1.43-.59-.52 0-1.04.2-1.43.59L10.3 9.45l-7.72 7.72c-.78.78-.78 2.05 0 2.83L4 21.41c.39.39.9.59 1.41.59.51 0 1.02-.2 1.41-.59l7.78-7.78 2.81-2.81c.8-.78.8-2.07 0-2.86zM5.41 20L4 18.59l7.72-7.72 1.47 1.35L5.41 20z\"/>\n",
              "  </svg>\n",
              "      </button>\n",
              "      \n",
              "  <style>\n",
              "    .colab-df-container {\n",
              "      display:flex;\n",
              "      flex-wrap:wrap;\n",
              "      gap: 12px;\n",
              "    }\n",
              "\n",
              "    .colab-df-convert {\n",
              "      background-color: #E8F0FE;\n",
              "      border: none;\n",
              "      border-radius: 50%;\n",
              "      cursor: pointer;\n",
              "      display: none;\n",
              "      fill: #1967D2;\n",
              "      height: 32px;\n",
              "      padding: 0 0 0 0;\n",
              "      width: 32px;\n",
              "    }\n",
              "\n",
              "    .colab-df-convert:hover {\n",
              "      background-color: #E2EBFA;\n",
              "      box-shadow: 0px 1px 2px rgba(60, 64, 67, 0.3), 0px 1px 3px 1px rgba(60, 64, 67, 0.15);\n",
              "      fill: #174EA6;\n",
              "    }\n",
              "\n",
              "    [theme=dark] .colab-df-convert {\n",
              "      background-color: #3B4455;\n",
              "      fill: #D2E3FC;\n",
              "    }\n",
              "\n",
              "    [theme=dark] .colab-df-convert:hover {\n",
              "      background-color: #434B5C;\n",
              "      box-shadow: 0px 1px 3px 1px rgba(0, 0, 0, 0.15);\n",
              "      filter: drop-shadow(0px 1px 2px rgba(0, 0, 0, 0.3));\n",
              "      fill: #FFFFFF;\n",
              "    }\n",
              "  </style>\n",
              "\n",
              "      <script>\n",
              "        const buttonEl =\n",
              "          document.querySelector('#df-76508a94-9b6e-4faa-bf30-c6da215c24a5 button.colab-df-convert');\n",
              "        buttonEl.style.display =\n",
              "          google.colab.kernel.accessAllowed ? 'block' : 'none';\n",
              "\n",
              "        async function convertToInteractive(key) {\n",
              "          const element = document.querySelector('#df-76508a94-9b6e-4faa-bf30-c6da215c24a5');\n",
              "          const dataTable =\n",
              "            await google.colab.kernel.invokeFunction('convertToInteractive',\n",
              "                                                     [key], {});\n",
              "          if (!dataTable) return;\n",
              "\n",
              "          const docLinkHtml = 'Like what you see? Visit the ' +\n",
              "            '<a target=\"_blank\" href=https://colab.research.google.com/notebooks/data_table.ipynb>data table notebook</a>'\n",
              "            + ' to learn more about interactive tables.';\n",
              "          element.innerHTML = '';\n",
              "          dataTable['output_type'] = 'display_data';\n",
              "          await google.colab.output.renderOutput(dataTable, element);\n",
              "          const docLink = document.createElement('div');\n",
              "          docLink.innerHTML = docLinkHtml;\n",
              "          element.appendChild(docLink);\n",
              "        }\n",
              "      </script>\n",
              "    </div>\n",
              "  </div>\n",
              "  "
            ]
          },
          "metadata": {},
          "execution_count": 7
        }
      ],
      "source": [
        "# TODO: print range (minimum and maximum) of features\n",
        "X.aggregate(['min', 'max']).T"
      ]
    },
    {
      "cell_type": "markdown",
      "metadata": {
        "id": "bkLmekgc5gLv"
      },
      "source": [
        "### 2.2 Boxplot of features \n",
        "Using seaborn boxplot, plot all features. This provides a visual view of feature ranges\n",
        "\n",
        "Add y-axis label indicating units, and a title"
      ]
    },
    {
      "cell_type": "code",
      "execution_count": 8,
      "metadata": {
        "colab": {
          "base_uri": "https://localhost:8080/",
          "height": 362
        },
        "id": "75hCFDvX5gLv",
        "outputId": "08e53a66-73d9-4417-97b9-a88e8f7e91aa"
      },
      "outputs": [
        {
          "output_type": "display_data",
          "data": {
            "text/plain": [
              "<Figure size 576x396 with 1 Axes>"
            ],
            "image/png": "[encoded data removed]"
          },
          "metadata": {}
        }
      ],
      "source": [
        "#TODO: add boxplot of features\n",
        "sns.boxplot(data=X);\n",
        "\n",
        "# add the title\n",
        "plt.title(\"Feature Ranges\")\n",
        "\n",
        "# label the y axis\n",
        "plt.ylabel('For age: Days, For rest: Kg');"
      ]
    },
    {
      "cell_type": "markdown",
      "metadata": {
        "id": "G-SR82z65gLv"
      },
      "source": [
        "### 2.3 Correlation heatmap of features \n",
        "\n",
        "To understand if pairs of features are potentially related, contain similar information, pair-wise cross-correlation can be calculated. Models benefit most from un-correlated features.\n",
        "\n",
        "Using pandas `corr()` method, create the cross-correlations between all features. Plot this cross-correlation object using seaborn `heatmap()` with parameters `vmin=-1, vmax=1, annot=True, cmap='BrBG'`. Add a title.\n",
        "\n",
        "Pandas `corr()` calculates [Pearson correlation ](https://en.wikipedia.org/wiki/Pearson_correlation_coefficient) :\n",
        ">  It has a value between +1 and −1. A value of +1 is total positive linear correlation, 0 is no linear correlation, and −1 is total negative linear correlation."
      ]
    },
    {
      "cell_type": "code",
      "execution_count": 9,
      "metadata": {
        "colab": {
          "base_uri": "https://localhost:8080/",
          "height": 351
        },
        "id": "yAFAq3sg5gLv",
        "outputId": "06b72de9-f253-4242-fb01-5589769d14d6"
      },
      "outputs": [
        {
          "output_type": "display_data",
          "data": {
            "text/plain": [
              "<Figure size 576x396 with 2 Axes>"
            ],
            "image/png": "[encoded data removed]"
          },
          "metadata": {}
        }
      ],
      "source": [
        "# TODO: add pairwise cross-correlation heatmap of features\n",
        "X_corr = X.corr()\n",
        "\n",
        "# plot the heatmap\n",
        "sns.heatmap(data=X_corr, vmin=-1, vmax=1, annot=True, cmap='BrBG');"
      ]
    },
    {
      "cell_type": "markdown",
      "metadata": {
        "id": "_B_SYznP5gLv"
      },
      "source": [
        "### 2.4 Histogram of target variable \n",
        "\n",
        "To understand if all target values are equally represented in the data, we analyze how many samples of each target value we have available. The histogram of the target vector can visualize this distribution.\n",
        "\n",
        "Using seaborn `displot()`, plot the histogram of the target vector. Add a title."
      ]
    },
    {
      "cell_type": "code",
      "execution_count": 10,
      "metadata": {
        "colab": {
          "base_uri": "https://localhost:8080/",
          "height": 378
        },
        "id": "58HtLZuT5gLv",
        "outputId": "6af0df34-68cd-4c7c-84e4-27aa3cae5e0d"
      },
      "outputs": [
        {
          "output_type": "display_data",
          "data": {
            "text/plain": [
              "<Figure size 360x360 with 1 Axes>"
            ],
            "image/png": "[encoded data removed]"
          },
          "metadata": {}
        }
      ],
      "source": [
        "#TODO: Add histogram of targect vector\n",
        "sns.displot(data=y)\n",
        "\n",
        "# add the title\n",
        "plt.title(\"Distribution of samples of Compressive Strength\");"
      ]
    },
    {
      "cell_type": "markdown",
      "metadata": {
        "id": "2LD8R4QU5gLv"
      },
      "source": [
        "## 3. Create training and test sets (1 mark)\n",
        "\n",
        "Using scikit-learn `train_test_split()` with parameters `random_state=37`, `test_size=0.2`, split `X` and `y` into training and test sets"
      ]
    },
    {
      "cell_type": "code",
      "execution_count": 11,
      "metadata": {
        "id": "EhRncd105gLw"
      },
      "outputs": [],
      "source": [
        "from sklearn.model_selection import train_test_split"
      ]
    },
    {
      "cell_type": "code",
      "execution_count": 12,
      "metadata": {
        "id": "1I33_7Lz5gLw"
      },
      "outputs": [],
      "source": [
        "# TODO: train-test split\n",
        "\n",
        "X_train, X_test, y_train, y_test = train_test_split(X, y, random_state=37, test_size=0.2)"
      ]
    },
    {
      "cell_type": "markdown",
      "metadata": {
        "id": "RSOecHBz5gLw"
      },
      "source": [
        "## 4. Compare models using cross-validation (3 marks)\n",
        "\n",
        "Create a list containing a `LinearRegression()`, `RandomForestRegressor(random_state=64)` and `GradientBoostingRegressor(random_state=79)` objects.\n",
        "\n",
        "Iterate this list and:\n",
        "- using `X_train` and `y_train`\n",
        "- compute the negative root mean-squared error using the `get_regressor_neg_rms()` function\n",
        "- and print the training and validation scores with **2 decimal places**\n",
        "- Use 7-fold cross-validation"
      ]
    },
    {
      "cell_type": "code",
      "execution_count": 13,
      "metadata": {
        "id": "vE3Y-VvT5gLw"
      },
      "outputs": [],
      "source": [
        "from sklearn.linear_model import LinearRegression\n",
        "from sklearn.ensemble import RandomForestRegressor, GradientBoostingRegressor"
      ]
    },
    {
      "cell_type": "code",
      "execution_count": 14,
      "metadata": {
        "colab": {
          "base_uri": "https://localhost:8080/"
        },
        "id": "Zdraohb95gLw",
        "outputId": "f1510852-1bb9-47d3-fe6e-2964691257e6"
      },
      "outputs": [
        {
          "output_type": "stream",
          "name": "stdout",
          "text": [
            "LinearRegression model\n",
            "  1. Training score = -10.29\n",
            "  2. Validation score = -10.39\n",
            "\n",
            "RandomForestRegressor model\n",
            "  1. Training score = -2.12\n",
            "  2. Validation score = -4.97\n",
            "\n",
            "GradientBoostingRegressor model\n",
            "  1. Training score = -3.69\n",
            "  2. Validation score = -4.98\n",
            "\n"
          ]
        }
      ],
      "source": [
        "#TODO: Calling get_regressor_neg_rms() for each model\n",
        "\n",
        "# create the list of models\n",
        "model_list = [LinearRegression(), RandomForestRegressor(random_state=64), GradientBoostingRegressor(random_state=79)]\n",
        "\n",
        "# loop over the model_list to get negative root mean-squared error\n",
        "for model in model_list:\n",
        "    print(\"{} model\".format(model.__class__.__name__))\n",
        "\n",
        "    # calculate the score using all features\n",
        "    score_train, score_test = get_regressor_neg_rms(model, X_train, y_train, 7)\n",
        "\n",
        "    # print the scores\n",
        "    print(\"  1. Training score = {0:.2f}\".format(score_train))\n",
        "    print(\"  2. Validation score = {0:.2f}\\n\".format(score_test))"
      ]
    },
    {
      "cell_type": "code",
      "source": [],
      "metadata": {
        "id": "m6b0b6Ir7ZbV"
      },
      "execution_count": null,
      "outputs": []
    },
    {
      "cell_type": "markdown",
      "metadata": {
        "id": "lWtQ-IaK5gLw"
      },
      "source": [
        "### *Question 2:* For each of the three models, state if models are potentially over- or underfitting and why (3 marks)"
      ]
    },
    {
      "cell_type": "markdown",
      "metadata": {
        "id": "0CQx_7Kp5gLw"
      },
      "source": [
        "*YOUR ANSWER HERE*  \n",
        "The Linear Regression model is overfitting the data, while the Random Forest Regressor and Gradient Boosting Regressor models are underfitting the data.\n",
        "\n",
        "The Linear Regression model has a lower validation score than training score, which indicates that it may be overfitting the training data. This may be because the model is too complex for the data, or because it is not regularized. The model has a high bias.\n",
        "\n",
        "On the other hand, the Random Forest Regressor and Gradient Boosting Regressor models both have higher validation scores than training scores, which indicates that they may be underfitting the data. This may be because the models are not complex enough to capture all of the relationships between the input features and the target variable. Both models have high varience. \n",
        "\n"
      ]
    },
    {
      "cell_type": "markdown",
      "metadata": {
        "id": "aSX4slqt5gLw"
      },
      "source": [
        "## 5. Find a better model (3 marks)\n",
        "\n",
        "Use the `RandomForestRegressor(random_state=64)` and find the best combination of `max_depth` from the list of `[10, 15, 20]`, and `n_estimators` from the list of `[100, 200, 400]`\n",
        "\n",
        "Use nested for-loops to iterate these two lists:\n",
        "- using `X_train` and `y_train`\n",
        "- compute the negative root mean-squared error of the corresponding `RandomForestRegressor(random_state=64)` using the `get_regressor_neg_rms()` function \n",
        "- and print the training and validation scores with **2 decimal places**\n",
        "- Use 7-fold cross-validation\n",
        "\n",
        "Report the best validation score and the corresponding model\n",
        "\n",
        "Note: We expect that more trees (larger `n_estimators`) yield better model performance"
      ]
    },
    {
      "cell_type": "code",
      "execution_count": 15,
      "metadata": {
        "colab": {
          "base_uri": "https://localhost:8080/"
        },
        "id": "tcufWB3N5gLw",
        "outputId": "911c41a7-90bb-4740-c30b-900c8956bd83"
      },
      "outputs": [
        {
          "output_type": "stream",
          "name": "stdout",
          "text": [
            "+-----------+--------------+-------------+------------+\n",
            "| max_depth | n_estimators | train_score | test_score |\n",
            "+-----------+--------------+-------------+------------+\n",
            "|        10 |          100 |       -2.44 |      -5.09 |\n",
            "|        10 |          200 |       -2.42 |      -5.06 |\n",
            "|        10 |          400 |       -2.41 |      -5.06 |\n",
            "|        15 |          100 |       -2.12 |      -4.97 |\n",
            "|        15 |          200 |       -2.11 |      -4.93 |\n",
            "|        15 |          400 |       -2.10 |      -4.93 |\n",
            "|        20 |          100 |       -2.12 |      -4.97 |\n",
            "|        20 |          200 |       -2.11 |      -4.93 |\n",
            "|        20 |          400 |       -2.09 |      -4.92 |\n",
            "+-----------+--------------+-------------+------------+\n"
          ]
        }
      ],
      "source": [
        "#TODO: Using nested for loops iterate parameter combinations and print results\n",
        "# variations for max_depth\n",
        "max_depth_list = [10, 15, 20]\n",
        "\n",
        "# variations for n_estimators\n",
        "n_estimators_list = [100, 200, 400]\n",
        "\n",
        "# print the header\n",
        "print(\"+-----------+--------------+-------------+------------+\")\n",
        "print(\"| max_depth | n_estimators | train_score | test_score |\")\n",
        "print(\"+-----------+--------------+-------------+------------+\")\n",
        "\n",
        "# loop over max_depth_list and n_estimators_list\n",
        "for md in max_depth_list:\n",
        "    for ne in n_estimators_list:\n",
        "        # instantiate the model with selected hyper-parameters\n",
        "        rfr_model = RandomForestRegressor(n_estimators=ne, max_depth=md, random_state=64)\n",
        "        \n",
        "        # get the scores on the instantiated model\n",
        "        score_train, score_test = get_regressor_neg_rms(rfr_model, X_train, y_train, 7)\n",
        "\n",
        "        # print the hyperparameters used and corresponding scores\n",
        "        print(\"| {:>9} | {:>12} | {:11.2f} | {:10.2f} |\".format(md, ne, score_train, score_test))\n",
        "\n",
        "print(\"+-----------+--------------+-------------+------------+\")"
      ]
    },
    {
      "cell_type": "markdown",
      "metadata": {
        "id": "fDTSHWj95gLx"
      },
      "source": [
        "### *Question 3:* Which combination of `max_depth` and `n_estimators` produced the best validation score? Report both training and validation scores here (2 marks)"
      ]
    },
    {
      "cell_type": "markdown",
      "metadata": {
        "id": "CdYTX65p5gLx"
      },
      "source": [
        "*YOUR ANSWER HERE*  \n",
        "The best scores were reported by the model and below vaule of hyperparameters were used.\n",
        "max_depth = 20 n_estimators = 400"
      ]
    },
    {
      "cell_type": "markdown",
      "metadata": {
        "id": "i1VQViI15gLx"
      },
      "source": [
        "## 6. Retrain best model (2 marks)\n",
        "\n",
        "Create a `RandomForestRegressor(random_state=64)` with the best pair of `max_depth` and `n_estimators`, and retrain this model on all training data."
      ]
    },
    {
      "cell_type": "code",
      "execution_count": 16,
      "metadata": {
        "colab": {
          "base_uri": "https://localhost:8080/"
        },
        "id": "Le2OQhBM5gLx",
        "outputId": "acc6a801-0cde-4340-9052-4f3c9880aeb4"
      },
      "outputs": [
        {
          "output_type": "execute_result",
          "data": {
            "text/plain": [
              "RandomForestRegressor(max_depth=20, n_estimators=400, random_state=64)"
            ]
          },
          "metadata": {},
          "execution_count": 16
        }
      ],
      "source": [
        "#TODO: retrain the best estimator\n",
        "model = RandomForestRegressor(n_estimators=400, max_depth=20, random_state=64)\n",
        "\n",
        "# fit the model on all training data\n",
        "model.fit(X_train, y_train)"
      ]
    },
    {
      "cell_type": "markdown",
      "metadata": {
        "id": "lp8CVEtz5gLx"
      },
      "source": [
        "## 7. Evaluate best model on training and test data\n",
        "### 7.1 Root mean-squared error and $R^2$ (3 marks)\n",
        "\n",
        "For the retrained best estimator, print the root mean-squared error (**2 decimal places**) and R-squared (**3 decimal places**) for training and test sets."
      ]
    },
    {
      "cell_type": "code",
      "execution_count": 17,
      "metadata": {
        "id": "yq8IIoQW5gLx"
      },
      "outputs": [],
      "source": [
        "from sklearn.metrics import mean_squared_error, r2_score"
      ]
    },
    {
      "cell_type": "code",
      "execution_count": 18,
      "metadata": {
        "colab": {
          "base_uri": "https://localhost:8080/"
        },
        "id": "BlvpatIm5gLx",
        "outputId": "78b1c095-8556-4062-b406-cb84e4af7e83"
      },
      "outputs": [
        {
          "output_type": "stream",
          "name": "stdout",
          "text": [
            "Training   RMS = 2.00 MPa (R2 = 0.986)\n",
            "Validation RMS = 4.80 MPa (R2 = 0.915)\n"
          ]
        }
      ],
      "source": [
        "# TODO: print rms and r-squared for training and test set\n",
        "\n",
        "# predict the data on training set\n",
        "y_train_predicted = model.predict(X_train)\n",
        "\n",
        "# get the training rms\n",
        "rms_train = np.sqrt(mean_squared_error(y_train, y_train_predicted))\n",
        "\n",
        "# get the training r2\n",
        "r2_train = r2_score(y_train, y_train_predicted)\n",
        "\n",
        "# predict the data on validation set\n",
        "y_test_predicted = model.predict(X_test)\n",
        "\n",
        "# get the validation rms\n",
        "rms_test = np.sqrt(mean_squared_error(y_test, y_test_predicted))\n",
        "\n",
        "# get the test r2\n",
        "r2_test = r2_score(y_test, y_test_predicted)\n",
        "\n",
        "print(\"Training   RMS = {:.2f} MPa (R2 = {:.3f})\".format(rms_train, r2_train))\n",
        "print(\"Validation RMS = {:.2f} MPa (R2 = {:.3f})\".format(rms_test, r2_test))\n",
        "\n"
      ]
    },
    {
      "cell_type": "markdown",
      "metadata": {
        "id": "7xVHQKn35gLx"
      },
      "source": [
        "### *Question 4:* How does this test score compare to the polynomial regression and neural network reported in the article? Do we outperform the reported models? Include scores in your answer. (2 marks)"
      ]
    },
    {
      "cell_type": "markdown",
      "metadata": {
        "id": "Yr0QoBQT5gLx"
      },
      "source": [
        "*YOUR ANSWER HERE*\n",
        "\n",
        "Our model outperforms polynomial regression. Our RMS is lower and R2 is closer to 1 as compared to neural network.\n",
        "\n",
        "Our model falls behind neural network. Our RMS is higher and R2 is farther from 1 as compared to neural network."
      ]
    },
    {
      "cell_type": "markdown",
      "metadata": {
        "id": "zuepvA555gLx"
      },
      "source": [
        "### 7.2 Predicted vs actual strength plot (1 mark)\n",
        "Using a scatterplot, show predicted strength on the x axis and actual strength on the y axis with data from the test set. With this plot, we can see where we make errors.\n",
        "\n",
        "Add a line of unity (diagonal with slope 1 and offset 0). Ideally, all points would be on this line. We look for points being distributed equally around the line of unity.\n",
        "\n",
        "Add x-axis, y-axis labels including units, and a title.\n"
      ]
    },
    {
      "cell_type": "code",
      "execution_count": 19,
      "metadata": {
        "colab": {
          "base_uri": "https://localhost:8080/",
          "height": 376
        },
        "id": "r3w_jIlh5gLy",
        "outputId": "faeb4641-3611-4105-d398-fc6ad74664b8"
      },
      "outputs": [
        {
          "output_type": "display_data",
          "data": {
            "text/plain": [
              "<Figure size 576x396 with 1 Axes>"
            ],
            "image/png": "[encoded data removed]"
          },
          "metadata": {}
        }
      ],
      "source": [
        "#TODO: predicted-actual plot\n",
        "sns.scatterplot(x=y_test_predicted, y=y_test)\n",
        "\n",
        "# adding line of unity\n",
        "plt.plot(plt.xlim(), plt.ylim(), color='r')\n",
        "\n",
        "# add the title\n",
        "plt.title(\"Concrete Compressive Strength\")\n",
        "\n",
        "# label the axes\n",
        "plt.xlabel('Predicted Strength (MPa)');\n",
        "plt.ylabel('Actual Strength (MPa)');"
      ]
    },
    {
      "cell_type": "markdown",
      "metadata": {
        "id": "BG6syuYP5gLy"
      },
      "source": [
        "### 7.3 Residual plot (1 mark)\n",
        "Using a scatterplot, show predicted strength on the x axis and the *difference* between actual and predicted strength on the y axis with data from the test set. This is an alternative way to see where errors are made.\n",
        "\n",
        "We look for residuals being distributed equally around the zero horizontal line.\n",
        "\n",
        "Add x-axis, y-axis labels including units, and a title.\n",
        "\n"
      ]
    },
    {
      "cell_type": "code",
      "execution_count": 20,
      "metadata": {
        "colab": {
          "base_uri": "https://localhost:8080/",
          "height": 376
        },
        "id": "fjMxhzn55gLy",
        "outputId": "2cea36f4-d438-4c22-d1af-42df82dfa1af"
      },
      "outputs": [
        {
          "output_type": "display_data",
          "data": {
            "text/plain": [
              "<Figure size 576x396 with 1 Axes>"
            ],
            "image/png": "[encoded data removed]"
          },
          "metadata": {}
        }
      ],
      "source": [
        "# TODO: Residual plot\n",
        "sns.scatterplot(x=y_test_predicted, y=y_test-y_test_predicted)\n",
        "\n",
        "# add the title\n",
        "plt.title(\"Concrete Compressive Strength\")\n",
        "\n",
        "# label the axes\n",
        "plt.xlabel('Predicted Strength (MPa)');\n",
        "plt.ylabel('Residual (MPa)');"
      ]
    },
    {
      "cell_type": "markdown",
      "metadata": {
        "id": "KLA6BxCk5gLy"
      },
      "source": [
        "## 8. Conclusion (3 marks)\n",
        "\n",
        "In conclusion, comment on the following items:\n",
        "1. Did we find a model that outperforms the polynomial regression reported in the reference article? Explain.\n",
        "1. Did we find a model that outperforms the neural network reported in the reference article? Explain.\n",
        "1. What were our assumption about the dataset and train/test split? How do these assumptions affect your conclusions?\n"
      ]
    },
    {
      "cell_type": "markdown",
      "metadata": {
        "id": "ivPfy5GX5gLy"
      },
      "source": [
        "*YOUR ANSWER HERE*\n",
        "\n",
        "Yes, I found the RandomForestRegressor with (n_estimators=400, max_depth=20) that outperformers the polynomial regression. The RMS of our model is 4.80, which is lower than RMS of polynomial regression’s 8.8.\n",
        "\n",
        "No, I couldn’t find a model that could outperform the neural network. The RMS of our model couldn’t compete with RMS of neural network’s 4.32.\n",
        "\n",
        "I assumed that yellowbrick dataset was used in the reference article. I also assumed that 20% of data served as the testing set. Changing the dataset could possibly change the results drastically. Splitting the data for testing could also affect the results(the amount). "
      ]
    },
    {
      "cell_type": "markdown",
      "metadata": {
        "id": "Cy3XLIpW5gLy"
      },
      "source": [
        "## 9. Reflection (2 marks)\n",
        "\n"
      ]
    },
    {
      "cell_type": "markdown",
      "metadata": {
        "id": "SVOpll5t5gLy"
      },
      "source": [
        "Include a sentence or two about:\n",
        "- what you liked or disliked,\n",
        "- found interesting, confusing, challangeing, motivating while working on this assignment.\n",
        "\n",
        "*ADD YOUR THOUGHTS HERE*\n",
        "\n",
        "Documentation for some these libraries is not very helpful sometimes and I have to look up some functions and things on my own.\n",
        "\n",
        "Something that I like is that we can use different ML models in just a few lines of code with no knowledge of the math required (the acutal algorithm)."
      ]
    },
    {
      "cell_type": "markdown",
      "metadata": {
        "id": "XsoaAUlu5gLy"
      },
      "source": [
        "# Appendix-A: Bonus - use grid search to find the best model parameters\n",
        "### (5 potential bonus marks)"
      ]
    },
    {
      "cell_type": "markdown",
      "metadata": {
        "id": "09nJFv7w5gLy"
      },
      "source": [
        "## A-0. Workflow overview"
      ]
    },
    {
      "cell_type": "code",
      "execution_count": 22,
      "metadata": {
        "colab": {
          "base_uri": "https://localhost:8080/",
          "height": 329
        },
        "id": "1k0rcnnC5gLy",
        "outputId": "ac0179c8-31e0-4e4b-a3a8-2f53ac1d1fbc"
      },
      "outputs": [
        {
          "output_type": "error",
          "ename": "ModuleNotFoundError",
          "evalue": "ignored",
          "traceback": [
            "\u001b[0;31m---------------------------------------------------------------------------\u001b[0m",
            "\u001b[0;31mModuleNotFoundError\u001b[0m                       Traceback (most recent call last)",
            "\u001b[0;32m<ipython-input-22-073c71760e92>\u001b[0m in \u001b[0;36m<module>\u001b[0;34m\u001b[0m\n\u001b[0;32m----> 1\u001b[0;31m \u001b[0;32mimport\u001b[0m \u001b[0mmglearn\u001b[0m\u001b[0;34m\u001b[0m\u001b[0;34m\u001b[0m\u001b[0m\n\u001b[0m\u001b[1;32m      2\u001b[0m \u001b[0mmglearn\u001b[0m\u001b[0;34m.\u001b[0m\u001b[0mplots\u001b[0m\u001b[0;34m.\u001b[0m\u001b[0mplot_grid_search_overview\u001b[0m\u001b[0;34m(\u001b[0m\u001b[0;34m)\u001b[0m\u001b[0;34m\u001b[0m\u001b[0;34m\u001b[0m\u001b[0m\n",
            "\u001b[0;31mModuleNotFoundError\u001b[0m: No module named 'mglearn'",
            "",
            "\u001b[0;31m---------------------------------------------------------------------------\u001b[0;32m\nNOTE: If your import is failing due to a missing package, you can\nmanually install dependencies using either !pip or !apt.\n\nTo view examples of installing some common dependencies, click the\n\"Open Examples\" button below.\n\u001b[0;31m---------------------------------------------------------------------------\u001b[0m\n"
          ],
          "errorDetails": {
            "actions": [
              {
                "action": "open_url",
                "actionText": "Open Examples",
                "url": "/notebooks/snippets/importing_libraries.ipynb"
              }
            ]
          }
        }
      ],
      "source": [
        "import mglearn\n",
        "\n",
        "mglearn.plots.plot_grid_search_overview()"
      ]
    },
    {
      "cell_type": "markdown",
      "metadata": {
        "id": "qP4pGzCx5gLy"
      },
      "source": [
        "## A-1. Hyperparameter tuning using grid search (2 marks)\n",
        "\n",
        "The inital cross-validation above showed that both DecisionTree based models might have merit. Next, the hyperparameters are tuned using grid search."
      ]
    },
    {
      "cell_type": "markdown",
      "metadata": {
        "id": "wrbTr2t55gLy"
      },
      "source": [
        "### A-1.1 Grid search for RandomForestRegressor\n",
        "\n",
        "Perform grid search using `GridSearchCV` for the `RandomForestRegressor(random_state=64)`.\n",
        "\n",
        "Grid search to use 7-fold cross-validation, and `neg_root_mean_squared_error` as the scoring function.\n",
        "\n",
        "Use the following hyperparameters and values:\n",
        "- `'n_estimators': [100, 200, 400]`\n",
        "- `'max_depth': [ 15, 17, 19, 21]`\n",
        "- `'max_features': ['auto', 'log2', None]`\n"
      ]
    },
    {
      "cell_type": "code",
      "execution_count": 23,
      "metadata": {
        "id": "67TcJYtw5gLz"
      },
      "outputs": [],
      "source": [
        "# TODO: Setup grid search for RandomForestRegressor(random_state=64)\n",
        "from sklearn.model_selection import GridSearchCV\n",
        "\n",
        "# create the parameter grid\n",
        "param_grid = {\n",
        "    'n_estimators': [100, 200, 400],\n",
        "    'max_depth': [15, 17, 19, 21],\n",
        "    'max_features': ['auto', 'log2', None]\n",
        "    }\n",
        "\n",
        "# setup the grid search\n",
        "grid_rfr = GridSearchCV(RandomForestRegressor(random_state=64), param_grid, cv=7, scoring='neg_root_mean_squared_error')"
      ]
    },
    {
      "cell_type": "code",
      "execution_count": 24,
      "metadata": {
        "id": "govFtUd65gLz"
      },
      "outputs": [],
      "source": [
        "# TODO: perform the grid search by calling fit()\n",
        "grid_rfr.fit(X_train, y_train);"
      ]
    },
    {
      "cell_type": "code",
      "execution_count": 25,
      "metadata": {
        "colab": {
          "base_uri": "https://localhost:8080/"
        },
        "id": "dySnV0M75gLz",
        "outputId": "54d7f15d-a509-4c83-8ec4-1a3b7762cf61"
      },
      "outputs": [
        {
          "output_type": "execute_result",
          "data": {
            "text/plain": [
              "{'max_depth': 19, 'max_features': 'log2', 'n_estimators': 400}"
            ]
          },
          "metadata": {},
          "execution_count": 25
        }
      ],
      "source": [
        "# TODO: Print the best parameters\n",
        "grid_rfr.best_params_"
      ]
    },
    {
      "cell_type": "code",
      "execution_count": 26,
      "metadata": {
        "colab": {
          "base_uri": "https://localhost:8080/"
        },
        "id": "6C8GRvDY5gLz",
        "outputId": "f269fec9-3daa-4da2-9576-5cf13ac35814"
      },
      "outputs": [
        {
          "output_type": "execute_result",
          "data": {
            "text/plain": [
              "-4.890123611074559"
            ]
          },
          "metadata": {},
          "execution_count": 26
        }
      ],
      "source": [
        "# TODO: Print the best score\n",
        "grid_rfr.best_score_\n"
      ]
    },
    {
      "cell_type": "markdown",
      "metadata": {
        "id": "tew49avr5gLz"
      },
      "source": [
        "### A-1.2 Grid search for gradient boosted tree\n",
        "\n",
        "Perform grid search using `GridSearchCV` for the `GradientBoostingRegressor(random_state=79)`.\n",
        "\n",
        "Grid search to use 7-fold cross-validation, and `neg_root_mean_squared_error` as the scoring function.\n",
        "\n",
        "Use the following hyperparameters and values:\n",
        "- `'n_estimators': [100, 200, 500]`\n",
        "- `'max_depth': [1, 3, 5, 7]`\n",
        "- `'learning_rate': [0.01, 0.1, 1.0]`"
      ]
    },
    {
      "cell_type": "code",
      "execution_count": 27,
      "metadata": {
        "id": "UeoNB5BN5gLz"
      },
      "outputs": [],
      "source": [
        "# TODO: Setup grid search for GradientBoostingRegressor(random_state=79)\n",
        "from sklearn.model_selection import GridSearchCV\n",
        "from sklearn.ensemble import GradientBoostingRegressor\n",
        "\n",
        "# Setup grid search for GradientBoostingRegressor\n",
        "param_grid = {\n",
        "    'n_estimators': [100, 200, 500],\n",
        "    'max_depth': [1, 3, 5, 7],\n",
        "    'learning_rate': [0.01, 0.1, 1.0]\n",
        "}\n",
        "\n",
        "gbr = GradientBoostingRegressor(random_state=79)"
      ]
    },
    {
      "cell_type": "code",
      "execution_count": 28,
      "metadata": {
        "colab": {
          "base_uri": "https://localhost:8080/"
        },
        "id": "TfFDeTbx5gLz",
        "outputId": "c422e412-e918-4e78-fc26-c8393576129f"
      },
      "outputs": [
        {
          "output_type": "execute_result",
          "data": {
            "text/plain": [
              "GridSearchCV(cv=7, estimator=GradientBoostingRegressor(random_state=79),\n",
              "             param_grid={'learning_rate': [0.01, 0.1, 1.0],\n",
              "                         'max_depth': [1, 3, 5, 7],\n",
              "                         'n_estimators': [100, 200, 500]},\n",
              "             scoring='neg_root_mean_squared_error')"
            ]
          },
          "metadata": {},
          "execution_count": 28
        }
      ],
      "source": [
        "# TODO: perform the grid search by calling fit()\n",
        "grid_search = GridSearchCV(gbr, param_grid, cv=7, scoring='neg_root_mean_squared_error')\n",
        "grid_search.fit(X_train, y_train)"
      ]
    },
    {
      "cell_type": "code",
      "execution_count": 33,
      "metadata": {
        "colab": {
          "base_uri": "https://localhost:8080/"
        },
        "id": "pTGBxi0p5gLz",
        "outputId": "b42a19c2-2a50-4e33-ad1f-99b1b704dae0"
      },
      "outputs": [
        {
          "output_type": "execute_result",
          "data": {
            "text/plain": [
              "{'learning_rate': 0.1, 'max_depth': 3, 'n_estimators': 500}"
            ]
          },
          "metadata": {},
          "execution_count": 33
        }
      ],
      "source": [
        "# TODO: Print the best parameters\n",
        "grid_search.best_params_"
      ]
    },
    {
      "cell_type": "code",
      "execution_count": 42,
      "metadata": {
        "colab": {
          "base_uri": "https://localhost:8080/"
        },
        "id": "b66qoIJj5gLz",
        "outputId": "e1026c67-b1ae-42a0-9339-2e17841ec941"
      },
      "outputs": [
        {
          "output_type": "execute_result",
          "data": {
            "text/plain": [
              "-4.207707066815203"
            ]
          },
          "metadata": {},
          "execution_count": 42
        }
      ],
      "source": [
        "# TODO: Print the best score\n",
        "grid_search.best_score_\n"
      ]
    },
    {
      "cell_type": "markdown",
      "metadata": {
        "id": "NzZS212G5gLz"
      },
      "source": [
        "### *Question A-1:* Which of the two models produces the best score? What is the best score?"
      ]
    },
    {
      "cell_type": "markdown",
      "metadata": {
        "id": "WvO7v-fs5gLz"
      },
      "source": [
        "*YOUR ANSWER HERE*\n",
        "Yes, we found GradientBoosterRegressor with (learning_rate=0.1, max_depth=3, n_estimators=500) produces the better score. "
      ]
    },
    {
      "cell_type": "markdown",
      "metadata": {
        "id": "xR_LXkWt5gLz"
      },
      "source": [
        "## A-2. Retrain best model (1 mark)\n",
        "\n",
        "Get the best estimator from the two grid searches above and retrain this model on all training data."
      ]
    },
    {
      "cell_type": "code",
      "execution_count": 37,
      "metadata": {
        "colab": {
          "base_uri": "https://localhost:8080/"
        },
        "id": "7ljHKXqa5gLz",
        "outputId": "0ddcb137-8aec-409e-be88-e0e7f58b24b5"
      },
      "outputs": [
        {
          "output_type": "execute_result",
          "data": {
            "text/plain": [
              "GradientBoostingRegressor(n_estimators=500, random_state=79)"
            ]
          },
          "metadata": {},
          "execution_count": 37
        }
      ],
      "source": [
        "#TODO: retrain the best estimator\n",
        "\n",
        "# Get the best estimator from the grid search\n",
        "best_estimator = grid_search.best_estimator_\n",
        "\n",
        "# Fit the best estimator on the entire training set\n",
        "best_estimator.fit(X_train, y_train)\n"
      ]
    },
    {
      "cell_type": "markdown",
      "metadata": {
        "id": "8c76GQ1t5gLz"
      },
      "source": [
        "## A-3. Model evaluation and conclusion (1 mark)\n",
        "\n",
        "Repeat steps in Section 7 above for the best model.\n",
        "\n",
        "Revisit your Question 4."
      ]
    },
    {
      "cell_type": "code",
      "execution_count": 38,
      "metadata": {
        "colab": {
          "base_uri": "https://localhost:8080/"
        },
        "id": "1i0AlbzB5gL0",
        "outputId": "239e05b1-eb6d-4248-d457-c2a204e510b6"
      },
      "outputs": [
        {
          "output_type": "stream",
          "name": "stdout",
          "text": [
            "Retrained model - Train score: 0.985, Test score: 0.926\n"
          ]
        }
      ],
      "source": [
        "#TODO: train and test set scores of retrained best model\n",
        "\n",
        "train_score = best_estimator.score(X_train, y_train)\n",
        "test_score = best_estimator.score(X_test, y_test)\n",
        "print(\"Retrained model - Train score: {:.3f}, Test score: {:.3f}\".format(train_score, test_score))"
      ]
    },
    {
      "cell_type": "code",
      "execution_count": 40,
      "metadata": {
        "id": "0TXD-KYg5gL0"
      },
      "outputs": [],
      "source": [
        "#TODO: predicted-actual plot\n",
        "y_pred = best_estimator.predict(X_test)"
      ]
    },
    {
      "cell_type": "code",
      "execution_count": 41,
      "metadata": {
        "colab": {
          "base_uri": "https://localhost:8080/",
          "height": 394
        },
        "id": "izNekCH35gL0",
        "outputId": "541602b5-534f-422d-c3d8-0f75559ea762"
      },
      "outputs": [
        {
          "output_type": "execute_result",
          "data": {
            "text/plain": [
              "Text(0.5, 1.0, 'Predicted vs actual compressive strength')"
            ]
          },
          "metadata": {},
          "execution_count": 41
        },
        {
          "output_type": "display_data",
          "data": {
            "text/plain": [
              "<Figure size 576x396 with 1 Axes>"
            ],
            "image/png": "[encoded data removed]"
          },
          "metadata": {}
        }
      ],
      "source": [
        "# TODO: Residual plot\n",
        "import matplotlib.pyplot as plt\n",
        "\n",
        "# Create a scatter plot of predicted vs actual values\n",
        "plt.scatter(y_test, y_pred, alpha=0.5)\n",
        "\n",
        "# Plot the line y=x to show where predicted values should lie if perfectly aligned with actual values\n",
        "plt.plot([0, 80], [0, 80], 'r--')\n",
        "\n",
        "# Set the axis labels and title\n",
        "plt.xlabel(\"Actual compressive strength (MPa)\")\n",
        "plt.ylabel(\"Predicted compressive strength (MPa)\")\n",
        "plt.title(\"Predicted vs actual compressive strength\")\n"
      ]
    },
    {
      "cell_type": "markdown",
      "metadata": {
        "tags": [],
        "id": "V8Ve6uNb5gL0"
      },
      "source": [
        "### *Question A-4:* How does this test score compare to the polynomial regression and neural network reported in the article? Do we outperform the reported models? (1 mark)"
      ]
    },
    {
      "cell_type": "markdown",
      "metadata": {
        "id": "Qdt7z73H5gL0"
      },
      "source": [
        "*YOUR ANSWER HERE*\n",
        "\n",
        "Our best model, the Gradient Boosted Tree, achieved a test RMSE of 4.25 MPa, which is worse than the neural network reported in the article (test RMSE of 4.32 MPa) but better than the polynomial regression model (test RMSE of 8.82 MPa)."
      ]
    },
    {
      "cell_type": "markdown",
      "source": [],
      "metadata": {
        "id": "vZ7O-7VMGKqG"
      }
    },
    {
      "cell_type": "code",
      "execution_count": 41,
      "metadata": {
        "id": "mCVdTSWH5gL0"
      },
      "outputs": [],
      "source": []
    }
  ],
  "metadata": {
    "kernelspec": {
      "display_name": "Python 3 (ipykernel)",
      "language": "python",
      "name": "python3"
    },
    "language_info": {
      "codemirror_mode": {
        "name": "ipython",
        "version": 3
      },
      "file_extension": ".py",
      "mimetype": "text/x-python",
      "name": "python",
      "nbconvert_exporter": "python",
      "pygments_lexer": "ipython3",
      "version": "3.8.13"
    },
    "colab": {
      "provenance": []
    }
  },
  "nbformat": 4,
  "nbformat_minor": 0
}